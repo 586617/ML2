{
 "cells": [
  {
   "cell_type": "markdown",
   "id": "9919b62f",
   "metadata": {},
   "source": [
    "# Context: Predict TMDB Box Office"
   ]
  },
  {
   "cell_type": "markdown",
   "id": "a5a547a9",
   "metadata": {},
   "source": [
    "Our dataset consists of 7398 movies and a variety of metadata provided from The Movie Database (TMDB). Consisting of a number of categorical features (i.e original_languages, spoken_languages) and numerica features (i.e budget, revenue, runtime). Using this we are to predict the worldwide revenue for 4398 movies in the 'test' file"
   ]
  },
  {
   "cell_type": "markdown",
   "id": "d9bce3f7",
   "metadata": {},
   "source": [
    "### Loading libraries and the data"
   ]
  },
  {
   "cell_type": "code",
   "execution_count": 236,
   "id": "5764d1cc",
   "metadata": {},
   "outputs": [
    {
     "data": {
      "text/html": [
       "<div>\n",
       "<style scoped>\n",
       "    .dataframe tbody tr th:only-of-type {\n",
       "        vertical-align: middle;\n",
       "    }\n",
       "\n",
       "    .dataframe tbody tr th {\n",
       "        vertical-align: top;\n",
       "    }\n",
       "\n",
       "    .dataframe thead th {\n",
       "        text-align: right;\n",
       "    }\n",
       "</style>\n",
       "<table border=\"1\" class=\"dataframe\">\n",
       "  <thead>\n",
       "    <tr style=\"text-align: right;\">\n",
       "      <th></th>\n",
       "      <th>id</th>\n",
       "      <th>belongs_to_collection</th>\n",
       "      <th>budget</th>\n",
       "      <th>genres</th>\n",
       "      <th>homepage</th>\n",
       "      <th>imdb_id</th>\n",
       "      <th>original_language</th>\n",
       "      <th>original_title</th>\n",
       "      <th>overview</th>\n",
       "      <th>popularity</th>\n",
       "      <th>...</th>\n",
       "      <th>release_date</th>\n",
       "      <th>runtime</th>\n",
       "      <th>spoken_languages</th>\n",
       "      <th>status</th>\n",
       "      <th>tagline</th>\n",
       "      <th>title</th>\n",
       "      <th>Keywords</th>\n",
       "      <th>cast</th>\n",
       "      <th>crew</th>\n",
       "      <th>revenue</th>\n",
       "    </tr>\n",
       "  </thead>\n",
       "  <tbody>\n",
       "    <tr>\n",
       "      <th>0</th>\n",
       "      <td>1</td>\n",
       "      <td>[{'id': 313576, 'name': 'Hot Tub Time Machine ...</td>\n",
       "      <td>14000000</td>\n",
       "      <td>[{'id': 35, 'name': 'Comedy'}]</td>\n",
       "      <td>NaN</td>\n",
       "      <td>tt2637294</td>\n",
       "      <td>en</td>\n",
       "      <td>Hot Tub Time Machine 2</td>\n",
       "      <td>When Lou, who has become the \"father of the In...</td>\n",
       "      <td>6.575393</td>\n",
       "      <td>...</td>\n",
       "      <td>2/20/15</td>\n",
       "      <td>93.0</td>\n",
       "      <td>[{'iso_639_1': 'en', 'name': 'English'}]</td>\n",
       "      <td>Released</td>\n",
       "      <td>The Laws of Space and Time are About to be Vio...</td>\n",
       "      <td>Hot Tub Time Machine 2</td>\n",
       "      <td>[{'id': 4379, 'name': 'time travel'}, {'id': 9...</td>\n",
       "      <td>[{'cast_id': 4, 'character': 'Lou', 'credit_id...</td>\n",
       "      <td>[{'credit_id': '59ac067c92514107af02c8c8', 'de...</td>\n",
       "      <td>12314651</td>\n",
       "    </tr>\n",
       "    <tr>\n",
       "      <th>1</th>\n",
       "      <td>2</td>\n",
       "      <td>[{'id': 107674, 'name': 'The Princess Diaries ...</td>\n",
       "      <td>40000000</td>\n",
       "      <td>[{'id': 35, 'name': 'Comedy'}, {'id': 18, 'nam...</td>\n",
       "      <td>NaN</td>\n",
       "      <td>tt0368933</td>\n",
       "      <td>en</td>\n",
       "      <td>The Princess Diaries 2: Royal Engagement</td>\n",
       "      <td>Mia Thermopolis is now a college graduate and ...</td>\n",
       "      <td>8.248895</td>\n",
       "      <td>...</td>\n",
       "      <td>8/6/04</td>\n",
       "      <td>113.0</td>\n",
       "      <td>[{'iso_639_1': 'en', 'name': 'English'}]</td>\n",
       "      <td>Released</td>\n",
       "      <td>It can take a lifetime to find true love; she'...</td>\n",
       "      <td>The Princess Diaries 2: Royal Engagement</td>\n",
       "      <td>[{'id': 2505, 'name': 'coronation'}, {'id': 42...</td>\n",
       "      <td>[{'cast_id': 1, 'character': 'Mia Thermopolis'...</td>\n",
       "      <td>[{'credit_id': '52fe43fe9251416c7502563d', 'de...</td>\n",
       "      <td>95149435</td>\n",
       "    </tr>\n",
       "    <tr>\n",
       "      <th>2</th>\n",
       "      <td>3</td>\n",
       "      <td>NaN</td>\n",
       "      <td>3300000</td>\n",
       "      <td>[{'id': 18, 'name': 'Drama'}]</td>\n",
       "      <td>http://sonyclassics.com/whiplash/</td>\n",
       "      <td>tt2582802</td>\n",
       "      <td>en</td>\n",
       "      <td>Whiplash</td>\n",
       "      <td>Under the direction of a ruthless instructor, ...</td>\n",
       "      <td>64.299990</td>\n",
       "      <td>...</td>\n",
       "      <td>10/10/14</td>\n",
       "      <td>105.0</td>\n",
       "      <td>[{'iso_639_1': 'en', 'name': 'English'}]</td>\n",
       "      <td>Released</td>\n",
       "      <td>The road to greatness can take you to the edge.</td>\n",
       "      <td>Whiplash</td>\n",
       "      <td>[{'id': 1416, 'name': 'jazz'}, {'id': 1523, 'n...</td>\n",
       "      <td>[{'cast_id': 5, 'character': 'Andrew Neimann',...</td>\n",
       "      <td>[{'credit_id': '54d5356ec3a3683ba0000039', 'de...</td>\n",
       "      <td>13092000</td>\n",
       "    </tr>\n",
       "    <tr>\n",
       "      <th>3</th>\n",
       "      <td>4</td>\n",
       "      <td>NaN</td>\n",
       "      <td>1200000</td>\n",
       "      <td>[{'id': 53, 'name': 'Thriller'}, {'id': 18, 'n...</td>\n",
       "      <td>http://kahaanithefilm.com/</td>\n",
       "      <td>tt1821480</td>\n",
       "      <td>hi</td>\n",
       "      <td>Kahaani</td>\n",
       "      <td>Vidya Bagchi (Vidya Balan) arrives in Kolkata ...</td>\n",
       "      <td>3.174936</td>\n",
       "      <td>...</td>\n",
       "      <td>3/9/12</td>\n",
       "      <td>122.0</td>\n",
       "      <td>[{'iso_639_1': 'en', 'name': 'English'}, {'iso...</td>\n",
       "      <td>Released</td>\n",
       "      <td>NaN</td>\n",
       "      <td>Kahaani</td>\n",
       "      <td>[{'id': 10092, 'name': 'mystery'}, {'id': 1054...</td>\n",
       "      <td>[{'cast_id': 1, 'character': 'Vidya Bagchi', '...</td>\n",
       "      <td>[{'credit_id': '52fe48779251416c9108d6eb', 'de...</td>\n",
       "      <td>16000000</td>\n",
       "    </tr>\n",
       "    <tr>\n",
       "      <th>4</th>\n",
       "      <td>5</td>\n",
       "      <td>NaN</td>\n",
       "      <td>0</td>\n",
       "      <td>[{'id': 28, 'name': 'Action'}, {'id': 53, 'nam...</td>\n",
       "      <td>NaN</td>\n",
       "      <td>tt1380152</td>\n",
       "      <td>ko</td>\n",
       "      <td>마린보이</td>\n",
       "      <td>Marine Boy is the story of a former national s...</td>\n",
       "      <td>1.148070</td>\n",
       "      <td>...</td>\n",
       "      <td>2/5/09</td>\n",
       "      <td>118.0</td>\n",
       "      <td>[{'iso_639_1': 'ko', 'name': '한국어/조선말'}]</td>\n",
       "      <td>Released</td>\n",
       "      <td>NaN</td>\n",
       "      <td>Marine Boy</td>\n",
       "      <td>NaN</td>\n",
       "      <td>[{'cast_id': 3, 'character': 'Chun-soo', 'cred...</td>\n",
       "      <td>[{'credit_id': '52fe464b9251416c75073b43', 'de...</td>\n",
       "      <td>3923970</td>\n",
       "    </tr>\n",
       "    <tr>\n",
       "      <th>5</th>\n",
       "      <td>6</td>\n",
       "      <td>NaN</td>\n",
       "      <td>8000000</td>\n",
       "      <td>[{'id': 16, 'name': 'Animation'}, {'id': 12, '...</td>\n",
       "      <td>NaN</td>\n",
       "      <td>tt0093743</td>\n",
       "      <td>en</td>\n",
       "      <td>Pinocchio and the Emperor of the Night</td>\n",
       "      <td>Pinocchio and his friends, a glow worm and a m...</td>\n",
       "      <td>0.743274</td>\n",
       "      <td>...</td>\n",
       "      <td>8/6/87</td>\n",
       "      <td>83.0</td>\n",
       "      <td>[{'iso_639_1': 'en', 'name': 'English'}]</td>\n",
       "      <td>Released</td>\n",
       "      <td>NaN</td>\n",
       "      <td>Pinocchio and the Emperor of the Night</td>\n",
       "      <td>NaN</td>\n",
       "      <td>[{'cast_id': 6, 'character': 'Pinocchio (voice...</td>\n",
       "      <td>[{'credit_id': '52fe46f49251416c9106558b', 'de...</td>\n",
       "      <td>3261638</td>\n",
       "    </tr>\n",
       "    <tr>\n",
       "      <th>6</th>\n",
       "      <td>7</td>\n",
       "      <td>NaN</td>\n",
       "      <td>14000000</td>\n",
       "      <td>[{'id': 27, 'name': 'Horror'}, {'id': 53, 'nam...</td>\n",
       "      <td>http://www.thepossessionmovie.com/</td>\n",
       "      <td>tt0431021</td>\n",
       "      <td>en</td>\n",
       "      <td>The Possession</td>\n",
       "      <td>A young girl buys an antique box at a yard sal...</td>\n",
       "      <td>7.286477</td>\n",
       "      <td>...</td>\n",
       "      <td>8/30/12</td>\n",
       "      <td>92.0</td>\n",
       "      <td>[{'iso_639_1': 'en', 'name': 'English'}]</td>\n",
       "      <td>Released</td>\n",
       "      <td>Fear The Demon That Doesn't Fear God</td>\n",
       "      <td>The Possession</td>\n",
       "      <td>NaN</td>\n",
       "      <td>[{'cast_id': 23, 'character': 'Clyde', 'credit...</td>\n",
       "      <td>[{'credit_id': '52fe4981c3a368484e12ee29', 'de...</td>\n",
       "      <td>85446075</td>\n",
       "    </tr>\n",
       "    <tr>\n",
       "      <th>7</th>\n",
       "      <td>8</td>\n",
       "      <td>NaN</td>\n",
       "      <td>0</td>\n",
       "      <td>[{'id': 99, 'name': 'Documentary'}]</td>\n",
       "      <td>NaN</td>\n",
       "      <td>tt0391024</td>\n",
       "      <td>en</td>\n",
       "      <td>Control Room</td>\n",
       "      <td>A chronicle which provides a rare window into ...</td>\n",
       "      <td>1.949044</td>\n",
       "      <td>...</td>\n",
       "      <td>1/15/04</td>\n",
       "      <td>84.0</td>\n",
       "      <td>[{'iso_639_1': 'ar', 'name': 'العربية'}, {'iso...</td>\n",
       "      <td>Released</td>\n",
       "      <td>Different channels. Different truths.</td>\n",
       "      <td>Control Room</td>\n",
       "      <td>[{'id': 917, 'name': 'journalism'}, {'id': 163...</td>\n",
       "      <td>[{'cast_id': 2, 'character': 'Himself', 'credi...</td>\n",
       "      <td>[{'credit_id': '52fe47a69251416c750a0daf', 'de...</td>\n",
       "      <td>2586511</td>\n",
       "    </tr>\n",
       "    <tr>\n",
       "      <th>8</th>\n",
       "      <td>9</td>\n",
       "      <td>[{'id': 256377, 'name': 'The Muppet Collection...</td>\n",
       "      <td>0</td>\n",
       "      <td>[{'id': 28, 'name': 'Action'}, {'id': 35, 'nam...</td>\n",
       "      <td>NaN</td>\n",
       "      <td>tt0117110</td>\n",
       "      <td>en</td>\n",
       "      <td>Muppet Treasure Island</td>\n",
       "      <td>After telling the story of Flint's last journe...</td>\n",
       "      <td>6.902423</td>\n",
       "      <td>...</td>\n",
       "      <td>2/16/96</td>\n",
       "      <td>100.0</td>\n",
       "      <td>[{'iso_639_1': 'en', 'name': 'English'}]</td>\n",
       "      <td>Released</td>\n",
       "      <td>Set sail for Muppet mayhem!</td>\n",
       "      <td>Muppet Treasure Island</td>\n",
       "      <td>[{'id': 2041, 'name': 'island'}, {'id': 4418, ...</td>\n",
       "      <td>[{'cast_id': 1, 'character': 'Long John Silver...</td>\n",
       "      <td>[{'credit_id': '52fe43c89251416c7501deb3', 'de...</td>\n",
       "      <td>34327391</td>\n",
       "    </tr>\n",
       "    <tr>\n",
       "      <th>9</th>\n",
       "      <td>10</td>\n",
       "      <td>NaN</td>\n",
       "      <td>6000000</td>\n",
       "      <td>[{'id': 35, 'name': 'Comedy'}, {'id': 10402, '...</td>\n",
       "      <td>NaN</td>\n",
       "      <td>tt0310281</td>\n",
       "      <td>en</td>\n",
       "      <td>A Mighty Wind</td>\n",
       "      <td>In \"A Mighty Wind\", director Christopher Guest...</td>\n",
       "      <td>4.672036</td>\n",
       "      <td>...</td>\n",
       "      <td>4/16/03</td>\n",
       "      <td>91.0</td>\n",
       "      <td>[{'iso_639_1': 'en', 'name': 'English'}]</td>\n",
       "      <td>Released</td>\n",
       "      <td>Back together for the first time, again.</td>\n",
       "      <td>A Mighty Wind</td>\n",
       "      <td>[{'id': 11800, 'name': 'mockumentary'}, {'id':...</td>\n",
       "      <td>[{'cast_id': 24, 'character': 'Jonathan Steinb...</td>\n",
       "      <td>[{'credit_id': '52fe45609251416c750545b3', 'de...</td>\n",
       "      <td>18750246</td>\n",
       "    </tr>\n",
       "  </tbody>\n",
       "</table>\n",
       "<p>10 rows × 23 columns</p>\n",
       "</div>"
      ],
      "text/plain": [
       "   id                              belongs_to_collection    budget  \\\n",
       "0   1  [{'id': 313576, 'name': 'Hot Tub Time Machine ...  14000000   \n",
       "1   2  [{'id': 107674, 'name': 'The Princess Diaries ...  40000000   \n",
       "2   3                                                NaN   3300000   \n",
       "3   4                                                NaN   1200000   \n",
       "4   5                                                NaN         0   \n",
       "5   6                                                NaN   8000000   \n",
       "6   7                                                NaN  14000000   \n",
       "7   8                                                NaN         0   \n",
       "8   9  [{'id': 256377, 'name': 'The Muppet Collection...         0   \n",
       "9  10                                                NaN   6000000   \n",
       "\n",
       "                                              genres  \\\n",
       "0                     [{'id': 35, 'name': 'Comedy'}]   \n",
       "1  [{'id': 35, 'name': 'Comedy'}, {'id': 18, 'nam...   \n",
       "2                      [{'id': 18, 'name': 'Drama'}]   \n",
       "3  [{'id': 53, 'name': 'Thriller'}, {'id': 18, 'n...   \n",
       "4  [{'id': 28, 'name': 'Action'}, {'id': 53, 'nam...   \n",
       "5  [{'id': 16, 'name': 'Animation'}, {'id': 12, '...   \n",
       "6  [{'id': 27, 'name': 'Horror'}, {'id': 53, 'nam...   \n",
       "7                [{'id': 99, 'name': 'Documentary'}]   \n",
       "8  [{'id': 28, 'name': 'Action'}, {'id': 35, 'nam...   \n",
       "9  [{'id': 35, 'name': 'Comedy'}, {'id': 10402, '...   \n",
       "\n",
       "                             homepage    imdb_id original_language  \\\n",
       "0                                 NaN  tt2637294                en   \n",
       "1                                 NaN  tt0368933                en   \n",
       "2   http://sonyclassics.com/whiplash/  tt2582802                en   \n",
       "3          http://kahaanithefilm.com/  tt1821480                hi   \n",
       "4                                 NaN  tt1380152                ko   \n",
       "5                                 NaN  tt0093743                en   \n",
       "6  http://www.thepossessionmovie.com/  tt0431021                en   \n",
       "7                                 NaN  tt0391024                en   \n",
       "8                                 NaN  tt0117110                en   \n",
       "9                                 NaN  tt0310281                en   \n",
       "\n",
       "                             original_title  \\\n",
       "0                    Hot Tub Time Machine 2   \n",
       "1  The Princess Diaries 2: Royal Engagement   \n",
       "2                                  Whiplash   \n",
       "3                                   Kahaani   \n",
       "4                                      마린보이   \n",
       "5    Pinocchio and the Emperor of the Night   \n",
       "6                            The Possession   \n",
       "7                              Control Room   \n",
       "8                    Muppet Treasure Island   \n",
       "9                             A Mighty Wind   \n",
       "\n",
       "                                            overview  popularity  ...  \\\n",
       "0  When Lou, who has become the \"father of the In...    6.575393  ...   \n",
       "1  Mia Thermopolis is now a college graduate and ...    8.248895  ...   \n",
       "2  Under the direction of a ruthless instructor, ...   64.299990  ...   \n",
       "3  Vidya Bagchi (Vidya Balan) arrives in Kolkata ...    3.174936  ...   \n",
       "4  Marine Boy is the story of a former national s...    1.148070  ...   \n",
       "5  Pinocchio and his friends, a glow worm and a m...    0.743274  ...   \n",
       "6  A young girl buys an antique box at a yard sal...    7.286477  ...   \n",
       "7  A chronicle which provides a rare window into ...    1.949044  ...   \n",
       "8  After telling the story of Flint's last journe...    6.902423  ...   \n",
       "9  In \"A Mighty Wind\", director Christopher Guest...    4.672036  ...   \n",
       "\n",
       "  release_date runtime                                   spoken_languages  \\\n",
       "0      2/20/15    93.0           [{'iso_639_1': 'en', 'name': 'English'}]   \n",
       "1       8/6/04   113.0           [{'iso_639_1': 'en', 'name': 'English'}]   \n",
       "2     10/10/14   105.0           [{'iso_639_1': 'en', 'name': 'English'}]   \n",
       "3       3/9/12   122.0  [{'iso_639_1': 'en', 'name': 'English'}, {'iso...   \n",
       "4       2/5/09   118.0           [{'iso_639_1': 'ko', 'name': '한국어/조선말'}]   \n",
       "5       8/6/87    83.0           [{'iso_639_1': 'en', 'name': 'English'}]   \n",
       "6      8/30/12    92.0           [{'iso_639_1': 'en', 'name': 'English'}]   \n",
       "7      1/15/04    84.0  [{'iso_639_1': 'ar', 'name': 'العربية'}, {'iso...   \n",
       "8      2/16/96   100.0           [{'iso_639_1': 'en', 'name': 'English'}]   \n",
       "9      4/16/03    91.0           [{'iso_639_1': 'en', 'name': 'English'}]   \n",
       "\n",
       "     status                                            tagline  \\\n",
       "0  Released  The Laws of Space and Time are About to be Vio...   \n",
       "1  Released  It can take a lifetime to find true love; she'...   \n",
       "2  Released    The road to greatness can take you to the edge.   \n",
       "3  Released                                                NaN   \n",
       "4  Released                                                NaN   \n",
       "5  Released                                                NaN   \n",
       "6  Released               Fear The Demon That Doesn't Fear God   \n",
       "7  Released              Different channels. Different truths.   \n",
       "8  Released                        Set sail for Muppet mayhem!   \n",
       "9  Released           Back together for the first time, again.   \n",
       "\n",
       "                                      title  \\\n",
       "0                    Hot Tub Time Machine 2   \n",
       "1  The Princess Diaries 2: Royal Engagement   \n",
       "2                                  Whiplash   \n",
       "3                                   Kahaani   \n",
       "4                                Marine Boy   \n",
       "5    Pinocchio and the Emperor of the Night   \n",
       "6                            The Possession   \n",
       "7                              Control Room   \n",
       "8                    Muppet Treasure Island   \n",
       "9                             A Mighty Wind   \n",
       "\n",
       "                                            Keywords  \\\n",
       "0  [{'id': 4379, 'name': 'time travel'}, {'id': 9...   \n",
       "1  [{'id': 2505, 'name': 'coronation'}, {'id': 42...   \n",
       "2  [{'id': 1416, 'name': 'jazz'}, {'id': 1523, 'n...   \n",
       "3  [{'id': 10092, 'name': 'mystery'}, {'id': 1054...   \n",
       "4                                                NaN   \n",
       "5                                                NaN   \n",
       "6                                                NaN   \n",
       "7  [{'id': 917, 'name': 'journalism'}, {'id': 163...   \n",
       "8  [{'id': 2041, 'name': 'island'}, {'id': 4418, ...   \n",
       "9  [{'id': 11800, 'name': 'mockumentary'}, {'id':...   \n",
       "\n",
       "                                                cast  \\\n",
       "0  [{'cast_id': 4, 'character': 'Lou', 'credit_id...   \n",
       "1  [{'cast_id': 1, 'character': 'Mia Thermopolis'...   \n",
       "2  [{'cast_id': 5, 'character': 'Andrew Neimann',...   \n",
       "3  [{'cast_id': 1, 'character': 'Vidya Bagchi', '...   \n",
       "4  [{'cast_id': 3, 'character': 'Chun-soo', 'cred...   \n",
       "5  [{'cast_id': 6, 'character': 'Pinocchio (voice...   \n",
       "6  [{'cast_id': 23, 'character': 'Clyde', 'credit...   \n",
       "7  [{'cast_id': 2, 'character': 'Himself', 'credi...   \n",
       "8  [{'cast_id': 1, 'character': 'Long John Silver...   \n",
       "9  [{'cast_id': 24, 'character': 'Jonathan Steinb...   \n",
       "\n",
       "                                                crew   revenue  \n",
       "0  [{'credit_id': '59ac067c92514107af02c8c8', 'de...  12314651  \n",
       "1  [{'credit_id': '52fe43fe9251416c7502563d', 'de...  95149435  \n",
       "2  [{'credit_id': '54d5356ec3a3683ba0000039', 'de...  13092000  \n",
       "3  [{'credit_id': '52fe48779251416c9108d6eb', 'de...  16000000  \n",
       "4  [{'credit_id': '52fe464b9251416c75073b43', 'de...   3923970  \n",
       "5  [{'credit_id': '52fe46f49251416c9106558b', 'de...   3261638  \n",
       "6  [{'credit_id': '52fe4981c3a368484e12ee29', 'de...  85446075  \n",
       "7  [{'credit_id': '52fe47a69251416c750a0daf', 'de...   2586511  \n",
       "8  [{'credit_id': '52fe43c89251416c7501deb3', 'de...  34327391  \n",
       "9  [{'credit_id': '52fe45609251416c750545b3', 'de...  18750246  \n",
       "\n",
       "[10 rows x 23 columns]"
      ]
     },
     "execution_count": 236,
     "metadata": {},
     "output_type": "execute_result"
    }
   ],
   "source": [
    "import pandas as pd\n",
    "import pickle\n",
    "import numpy as np\n",
    "from collections import Counter\n",
    "from sklearn.model_selection import train_test_split\n",
    "from sklearn.ensemble import RandomForestRegressor\n",
    "from sklearn import metrics\n",
    "from sklearn.metrics import mean_squared_error, median_absolute_error\n",
    "from sklearn.metrics import r2_score\n",
    "from sklearn.linear_model import Ridge,Lasso\n",
    "from sklearn.ensemble import RandomForestRegressor\n",
    "from sklearn.neighbors import KNeighborsRegressor\n",
    "from sklearn.pipeline import Pipeline\n",
    "from sklearn.preprocessing import StandardScaler\n",
    "from sklearn.linear_model import LinearRegression, BayesianRidge\n",
    "from sklearn.isotonic import IsotonicRegression\n",
    "from sklearn import ensemble\n",
    "from sklearn.svm import SVR\n",
    "from sklearn.gaussian_process import GaussianProcessRegressor\n",
    "from sklearn.datasets import load_diabetes\n",
    "from sklearn import impute\n",
    "from sklearn import preprocessing\n",
    "from xgboost import XGBRegressor\n",
    "from sklearn import compose\n",
    "from sklearn.model_selection import RandomizedSearchCV\n",
    "from sklearn.model_selection import KFold, cross_val_score\n",
    "import seaborn as sns\n",
    "import matplotlib.pyplot as plt\n",
    "plt.style.use('fivethirtyeight')\n",
    "\n",
    "train = pd.read_csv('data/train.csv')\n",
    "test = pd.read_csv('data/test.csv')\n",
    "\n",
    "train.head(10)"
   ]
  },
  {
   "cell_type": "markdown",
   "id": "7783c94e",
   "metadata": {},
   "source": [
    "## Exploring the dataset "
   ]
  },
  {
   "cell_type": "markdown",
   "id": "264aba30",
   "metadata": {},
   "source": [
    "An initial overview of the dataset \n",
    "\n",
    "- There are many NaN and empty columns\n",
    "- Some columns are not useful for predicting revenue\n",
    "- Some columns contain objects or arrays with more content"
   ]
  },
  {
   "cell_type": "code",
   "execution_count": 237,
   "id": "366e4e2f",
   "metadata": {},
   "outputs": [
    {
     "data": {
      "text/plain": [
       "(0, 380000000)"
      ]
     },
     "execution_count": 237,
     "metadata": {},
     "output_type": "execute_result"
    }
   ],
   "source": [
    "train.budget.min(), train.budget.max()"
   ]
  },
  {
   "cell_type": "code",
   "execution_count": 238,
   "id": "2b993a2c",
   "metadata": {},
   "outputs": [
    {
     "data": {
      "text/plain": [
       "Index(['id', 'belongs_to_collection', 'budget', 'genres', 'homepage',\n",
       "       'imdb_id', 'original_language', 'original_title', 'overview',\n",
       "       'popularity', 'poster_path', 'production_companies',\n",
       "       'production_countries', 'release_date', 'runtime', 'spoken_languages',\n",
       "       'status', 'tagline', 'title', 'Keywords', 'cast', 'crew', 'revenue'],\n",
       "      dtype='object')"
      ]
     },
     "execution_count": 238,
     "metadata": {},
     "output_type": "execute_result"
    }
   ],
   "source": [
    "train.columns"
   ]
  },
  {
   "cell_type": "markdown",
   "id": "7b60ea6a",
   "metadata": {},
   "source": [
    "#### Taking a close look at the NA values"
   ]
  },
  {
   "cell_type": "code",
   "execution_count": 239,
   "id": "2d91fe3d",
   "metadata": {},
   "outputs": [
    {
     "data": {
      "text/plain": [
       "id                          0\n",
       "belongs_to_collection    2396\n",
       "budget                      0\n",
       "genres                      7\n",
       "homepage                 2054\n",
       "imdb_id                     0\n",
       "original_language           0\n",
       "original_title              0\n",
       "overview                    8\n",
       "popularity                  0\n",
       "poster_path                 1\n",
       "production_companies      156\n",
       "production_countries       55\n",
       "release_date                0\n",
       "runtime                     2\n",
       "spoken_languages           20\n",
       "status                      0\n",
       "tagline                   597\n",
       "title                       0\n",
       "Keywords                  276\n",
       "cast                       13\n",
       "crew                       16\n",
       "revenue                     0\n",
       "dtype: int64"
      ]
     },
     "execution_count": 239,
     "metadata": {},
     "output_type": "execute_result"
    }
   ],
   "source": [
    "train.isna().sum()"
   ]
  },
  {
   "cell_type": "code",
   "execution_count": 240,
   "id": "a20200c1",
   "metadata": {},
   "outputs": [
    {
     "data": {
      "text/plain": [
       "id                          0\n",
       "belongs_to_collection    2396\n",
       "budget                      0\n",
       "genres                      7\n",
       "homepage                 2054\n",
       "imdb_id                     0\n",
       "original_language           0\n",
       "original_title              0\n",
       "overview                    8\n",
       "popularity                  0\n",
       "poster_path                 1\n",
       "production_companies      156\n",
       "production_countries       55\n",
       "release_date                0\n",
       "runtime                     2\n",
       "spoken_languages           20\n",
       "status                      0\n",
       "tagline                   597\n",
       "title                       0\n",
       "Keywords                  276\n",
       "cast                       13\n",
       "crew                       16\n",
       "revenue                     0\n",
       "dtype: int64"
      ]
     },
     "execution_count": 240,
     "metadata": {},
     "output_type": "execute_result"
    }
   ],
   "source": [
    "train.isna().sum()"
   ]
  },
  {
   "cell_type": "code",
   "execution_count": 241,
   "id": "befca8c0",
   "metadata": {},
   "outputs": [
    {
     "name": "stdout",
     "output_type": "stream",
     "text": [
      "<class 'pandas.core.frame.DataFrame'>\n",
      "RangeIndex: 3000 entries, 0 to 2999\n",
      "Data columns (total 23 columns):\n",
      " #   Column                 Non-Null Count  Dtype  \n",
      "---  ------                 --------------  -----  \n",
      " 0   id                     3000 non-null   int64  \n",
      " 1   belongs_to_collection  604 non-null    object \n",
      " 2   budget                 3000 non-null   int64  \n",
      " 3   genres                 2993 non-null   object \n",
      " 4   homepage               946 non-null    object \n",
      " 5   imdb_id                3000 non-null   object \n",
      " 6   original_language      3000 non-null   object \n",
      " 7   original_title         3000 non-null   object \n",
      " 8   overview               2992 non-null   object \n",
      " 9   popularity             3000 non-null   float64\n",
      " 10  poster_path            2999 non-null   object \n",
      " 11  production_companies   2844 non-null   object \n",
      " 12  production_countries   2945 non-null   object \n",
      " 13  release_date           3000 non-null   object \n",
      " 14  runtime                2998 non-null   float64\n",
      " 15  spoken_languages       2980 non-null   object \n",
      " 16  status                 3000 non-null   object \n",
      " 17  tagline                2403 non-null   object \n",
      " 18  title                  3000 non-null   object \n",
      " 19  Keywords               2724 non-null   object \n",
      " 20  cast                   2987 non-null   object \n",
      " 21  crew                   2984 non-null   object \n",
      " 22  revenue                3000 non-null   int64  \n",
      "dtypes: float64(2), int64(3), object(18)\n",
      "memory usage: 539.2+ KB\n"
     ]
    }
   ],
   "source": [
    "train.info()"
   ]
  },
  {
   "cell_type": "markdown",
   "id": "af9ecc28",
   "metadata": {},
   "source": [
    "## Data analysis"
   ]
  },
  {
   "cell_type": "markdown",
   "id": "72ba3ecb",
   "metadata": {},
   "source": [
    "For are data analysis we are going to start off by looking at some interesting colums which could be important for predicting revenue. We are going to start with the most strait forward one the budget of the film. Films with higher budget, which leads to higher production, more well know cast and greater popularity from example marketing often leads to greater succes. What's going to be interesting here is to see if how ofter this is the case or other films with less budget can reach same hights."
   ]
  },
  {
   "cell_type": "code",
   "execution_count": 242,
   "id": "c198bf33",
   "metadata": {},
   "outputs": [
    {
     "name": "stderr",
     "output_type": "stream",
     "text": [
      "C:\\Users\\matia\\anaconda3\\lib\\site-packages\\seaborn\\distributions.py:2557: FutureWarning: `distplot` is a deprecated function and will be removed in a future version. Please adapt your code to use either `displot` (a figure-level function with similar flexibility) or `histplot` (an axes-level function for histograms).\n",
      "  warnings.warn(msg, FutureWarning)\n"
     ]
    },
    {
     "data": {
      "image/png": "[encoded data removed]",
      "text/plain": [
       "<Figure size 864x648 with 3 Axes>"
      ]
     },
     "metadata": {},
     "output_type": "display_data"
    }
   ],
   "source": [
    "f, ax = plt.subplots(3, figsize=(12,9))\n",
    "\n",
    "sns.set(rc={'figure.figsize':(12,9)})\n",
    "sns.boxplot(x=train.budget, ax = ax[0], color='lightgreen')\n",
    "ax[0].set_title(\"Plot of budget\")\n",
    "sns.distplot(a=train.budget, kde = False, ax = ax[1], color='red')\n",
    "ax[1].set_title(\"Histogram of budget\")\n",
    "sns.distplot(a=np.log1p(train.budget), kde = False, ax = ax[2])\n",
    "ax[2].set_title(\"Histogram of Log1p transformed budget\")\n",
    "f.tight_layout()"
   ]
  },
  {
   "cell_type": "markdown",
   "id": "dc895da9",
   "metadata": {},
   "source": [
    "We can see that budget distribution is heavily skewed to the right due to the large cost of higher end film budgets. Also alot of films are missing a budget or have a very low budget something which very likeley due to missing budget information. Due to this error effecting over 850 movies we are later on going to set a minimum cap on our budget for our machine learning part. Next we are looking at original languages in the different films."
   ]
  },
  {
   "cell_type": "code",
   "execution_count": 243,
   "id": "f69165a9",
   "metadata": {},
   "outputs": [
    {
     "data": {
      "text/plain": [
       "en    2575\n",
       "fr      78\n",
       "ru      47\n",
       "es      43\n",
       "hi      42\n",
       "ja      37\n",
       "it      24\n",
       "cn      20\n",
       "ko      20\n",
       "zh      19\n",
       "de      18\n",
       "ta      16\n",
       "sv       8\n",
       "nl       6\n",
       "pt       6\n",
       "fa       5\n",
       "da       5\n",
       "ro       4\n",
       "hu       3\n",
       "tr       3\n",
       "no       2\n",
       "ml       2\n",
       "pl       2\n",
       "te       2\n",
       "fi       2\n",
       "ur       1\n",
       "he       1\n",
       "el       1\n",
       "ar       1\n",
       "nb       1\n",
       "vi       1\n",
       "mr       1\n",
       "cs       1\n",
       "sr       1\n",
       "bn       1\n",
       "id       1\n",
       "Name: original_language, dtype: int64"
      ]
     },
     "execution_count": 243,
     "metadata": {},
     "output_type": "execute_result"
    }
   ],
   "source": [
    "train.original_language.value_counts()"
   ]
  },
  {
   "cell_type": "markdown",
   "id": "96d3117d",
   "metadata": {},
   "source": [
    "We can see a large amount of different langauges where the majority is english speak. Let's try this again with only counting english speaking vs non english speaking."
   ]
  },
  {
   "cell_type": "code",
   "execution_count": 244,
   "id": "9600b6d5",
   "metadata": {},
   "outputs": [
    {
     "data": {
      "text/plain": [
       "1    2575\n",
       "0     425\n",
       "Name: original_language_english, dtype: int64"
      ]
     },
     "execution_count": 244,
     "metadata": {},
     "output_type": "execute_result"
    }
   ],
   "source": [
    "train['original_language_english'] = train.original_language.apply(lambda x: 1 if x == 'en' else 0)\n",
    "train['original_language_english'].value_counts()"
   ]
  },
  {
   "cell_type": "markdown",
   "id": "fe845534",
   "metadata": {},
   "source": [
    "Again english films dominate with allmost 6 times the amount of film compared to non english speaking."
   ]
  },
  {
   "cell_type": "code",
   "execution_count": 245,
   "id": "5e71430f",
   "metadata": {},
   "outputs": [
    {
     "data": {
      "image/png": "[encoded data removed]",
      "text/plain": [
       "<Figure size 864x648 with 1 Axes>"
      ]
     },
     "metadata": {},
     "output_type": "display_data"
    }
   ],
   "source": [
    "# Plotting original_language\n",
    "labels = 'English', 'Not in English'\n",
    "btc_1 = [(train.original_language_english == 1).sum(axis=0), (train.original_language_english == 0).sum(axis=0)]\n",
    "explode = (0.1, 0)\n",
    "\n",
    "colors = ['green', 'lightgreen']\n",
    "\n",
    "fig, ax = plt.subplots()\n",
    "ax.pie(btc_1, explode=explode, autopct='%1.1f%%', shadow=True, startangle=90, colors=colors, textprops={'color':\"w\", 'fontsize': 22, 'weight':\"bold\"})\n",
    "ax.axis('equal') # ensures chart is a circle\n",
    "\n",
    "ax.legend(labels,\n",
    "          title=\"Legend\",\n",
    "          loc=\"center left\",\n",
    "          fontsize=14,\n",
    "          bbox_to_anchor=(0.8, 0.25, 0.5, 1))\n",
    "\n",
    "plt.show()"
   ]
  },
  {
   "cell_type": "markdown",
   "id": "deff9fc5",
   "metadata": {},
   "source": [
    "Last we are going to analyze the renvenue"
   ]
  },
  {
   "cell_type": "code",
   "execution_count": 246,
   "id": "2ab1b7f2",
   "metadata": {},
   "outputs": [
    {
     "name": "stderr",
     "output_type": "stream",
     "text": [
      "C:\\Users\\matia\\anaconda3\\lib\\site-packages\\seaborn\\distributions.py:2557: FutureWarning: `distplot` is a deprecated function and will be removed in a future version. Please adapt your code to use either `displot` (a figure-level function with similar flexibility) or `histplot` (an axes-level function for histograms).\n",
      "  warnings.warn(msg, FutureWarning)\n"
     ]
    },
    {
     "data": {
      "image/png": "[encoded data removed]",
      "text/plain": [
       "<Figure size 864x648 with 3 Axes>"
      ]
     },
     "metadata": {},
     "output_type": "display_data"
    }
   ],
   "source": [
    "f, ax = plt.subplots(3, figsize=(12,9))\n",
    "\n",
    "sns.set(rc={'figure.figsize':(12,9)})\n",
    "sns.boxplot(x=train.revenue, ax = ax[0], color='lightgreen')\n",
    "ax[0].set_title(\"Plot of revenue\")\n",
    "sns.distplot(a=train.revenue, kde = False, ax = ax[1], color='red')\n",
    "ax[1].set_title(\"Histogram of revenue\")\n",
    "sns.distplot(a=np.log1p(train.revenue), kde = False, ax = ax[2])\n",
    "ax[2].set_title(\"Histogram of Log1p transformed revenue\")\n",
    "f.tight_layout()\n",
    "\n",
    "train[\"log_revenue\"] = np.log1p(train.revenue)"
   ]
  },
  {
   "cell_type": "markdown",
   "id": "0b2f1c40",
   "metadata": {},
   "source": [
    "Looking at the renvenue we can see it moving heavily to the right, which likley due to major box office hits effecting the distribution drastically.  "
   ]
  },
  {
   "cell_type": "markdown",
   "id": "1b83b5ab",
   "metadata": {},
   "source": [
    "## Preprocessing"
   ]
  },
  {
   "cell_type": "code",
   "execution_count": 247,
   "id": "fd8012a3",
   "metadata": {},
   "outputs": [],
   "source": [
    "train = train.loc[train['revenue']>15_000]\n",
    "\n",
    "X = train[['budget', 'genres', 'original_language', 'popularity', 'production_companies', 'release_date', 'runtime']]\n",
    "y = train['revenue']"
   ]
  },
  {
   "cell_type": "code",
   "execution_count": 248,
   "id": "5e9fa6eb",
   "metadata": {},
   "outputs": [],
   "source": [
    "def get_age(df, col_name):\n",
    "    df['current_day'] = pd.to_datetime('today')\n",
    "    df[col_name+'-age']  = (df['current_day'] - pd.to_datetime(df[col_name])).dt.days\n",
    "    df.drop(['current_day'],axis=1, inplace=True)\n",
    "    \n",
    "def get_genre_list (genres):\n",
    "    res = []\n",
    "    if not genres or pd.isnull(genres):\n",
    "        return res\n",
    "    genres = genres.replace('[','').replace(']','')\n",
    "    genre_list = genres.split('},')\n",
    "    for item in genre_list:\n",
    "        res.append(int(item.split(',')[0].replace(\"{'id': \", '')))\n",
    "    return res"
   ]
  },
  {
   "cell_type": "code",
   "execution_count": 249,
   "id": "34b1dedd",
   "metadata": {},
   "outputs": [],
   "source": [
    "def get_counts(df,col_name):\n",
    "    x = []\n",
    "    for j in df[col_name]:\n",
    "        x.append(j)\n",
    "    return Counter(sum(x,[]))\n",
    "\n",
    "def get_unique(df,col_name):\n",
    "    x = set()\n",
    "    for j in df[col_name]:\n",
    "        x = x.union(j)\n",
    "    return list(x)\n",
    "\n",
    "def n_hot_encode(df,col_name, val_list=None):\n",
    "    if(not val_list):\n",
    "        val_list = get_unique(df, col_name) \n",
    "    for i in range(len(val_list)):\n",
    "        df[col_name+str(i)] = 0\n",
    "    for index, row in df.iterrows():\n",
    "        for elm in df[col_name][index]:\n",
    "            if( elm in val_list):\n",
    "                df[col_name+str(val_list.index(elm))][index] = 1"
   ]
  },
  {
   "cell_type": "code",
   "execution_count": 250,
   "id": "d7b3d4fc",
   "metadata": {},
   "outputs": [],
   "source": [
    "def get_prod_id_list(prod):\n",
    "    res = []\n",
    "    if not prod or pd.isnull(prod):\n",
    "        return res\n",
    "    prod = prod.replace('[{','').replace('}]','')\n",
    "    prod_list = prod.split('},')\n",
    "    for item in prod_list:\n",
    "        res.append(int(item.split(',')[-1].replace(\"'id': \", '')))\n",
    "    return res\n",
    "\n",
    "def get_prod_list_names(prod):\n",
    "    res = []\n",
    "    if not prod or pd.isnull(prod):\n",
    "        return res\n",
    "    prod = prod.replace('[{','').replace('}]','')\n",
    "    prod_list = prod.split('},')\n",
    "    for item in prod_list:\n",
    "        res.append(int(item.split(',')[-1].replace(\"'name': \", '')))\n",
    "    return res\n"
   ]
  },
  {
   "cell_type": "code",
   "execution_count": 251,
   "id": "2d627d34",
   "metadata": {},
   "outputs": [],
   "source": [
    "def get_list_of_casts(df, col):\n",
    "    cast_list = []\n",
    "    for index, row in df.iterrows():\n",
    "        cast_dict_list = eval(df[col][index])\n",
    "        for idx in range(len(cast_dict_list)):\n",
    "            cast_list.append(cast_dict_list[idx]['name'])\n",
    "    return cast_list\n",
    "\n",
    "def create_popular_cast_counter(df, col, casts, n):\n",
    "    most_popular = Counter(casts).most_common(n)\n",
    "    df['cast'] = 0\n",
    "    for index, row in df.iterrows():\n",
    "        cast_dict_str = df[col][index]\n",
    "        for cast in most_popular:\n",
    "            if cast[0] in cast_dict_str:\n",
    "                df['cast'][index] = df['cast'][index] + 1\n"
   ]
  },
  {
   "cell_type": "code",
   "execution_count": 252,
   "id": "353702d0",
   "metadata": {},
   "outputs": [],
   "source": [
    "def create_language_order_dict(df, col_name):\n",
    "    language_order = df.groupby([col_name]).mean().reset_index()[[col_name, 'revenue']].sort_values(by='revenue', ascending=False)\n",
    "    language_order_dict = {}\n",
    "    languages = list(language_order[col_name])\n",
    "    for i in range(len(languages)):\n",
    "        language_order_dict[languages[i]] = i\n",
    "    return language_order_dict\n",
    "\n",
    "def get_language_position(language):\n",
    "    language_order_dict = create_language_order_dict(train, 'original_language')\n",
    "    return language_order_dict[language]"
   ]
  },
  {
   "cell_type": "code",
   "execution_count": 253,
   "id": "9c5da60c",
   "metadata": {},
   "outputs": [],
   "source": [
    "def create_dump_month_identifier(df, col):\n",
    "    df[col] = pd.to_datetime(df[col])\n",
    "    df[col+'_month'] = df[col].dt.month\n",
    "    df['dump_month_identifier'] = 0\n",
    "    for index, row in df.iterrows():\n",
    "        if df[col+'_month'][index] in [1,2,8,9]:\n",
    "            df['dump_month_identifier'][index] = 1   \n",
    "    df.drop([col+'_month'],axis=1,inplace=True)"
   ]
  },
  {
   "cell_type": "code",
   "execution_count": 254,
   "id": "f845f413",
   "metadata": {},
   "outputs": [
    {
     "name": "stderr",
     "output_type": "stream",
     "text": [
      "<ipython-input-254-bcb71b15ad47>:1: SettingWithCopyWarning: \n",
      "A value is trying to be set on a copy of a slice from a DataFrame.\n",
      "Try using .loc[row_indexer,col_indexer] = value instead\n",
      "\n",
      "See the caveats in the documentation: https://pandas.pydata.org/pandas-docs/stable/user_guide/indexing.html#returning-a-view-versus-a-copy\n",
      "  X['genre_list'] = X['genres'].apply(get_genre_list)\n",
      "<ipython-input-249-1560a6725aed>:17: SettingWithCopyWarning: \n",
      "A value is trying to be set on a copy of a slice from a DataFrame.\n",
      "Try using .loc[row_indexer,col_indexer] = value instead\n",
      "\n",
      "See the caveats in the documentation: https://pandas.pydata.org/pandas-docs/stable/user_guide/indexing.html#returning-a-view-versus-a-copy\n",
      "  df[col_name+str(i)] = 0\n",
      "<ipython-input-249-1560a6725aed>:21: SettingWithCopyWarning: \n",
      "A value is trying to be set on a copy of a slice from a DataFrame\n",
      "\n",
      "See the caveats in the documentation: https://pandas.pydata.org/pandas-docs/stable/user_guide/indexing.html#returning-a-view-versus-a-copy\n",
      "  df[col_name+str(val_list.index(elm))][index] = 1\n"
     ]
    }
   ],
   "source": [
    "X['genre_list'] = X['genres'].apply(get_genre_list)\n",
    "n_hot_encode(X,'genre_list')\n",
    "X.drop(['genre_list','genres'], axis=1, inplace=True)\n",
    "\n",
    "get_age(X, 'release_date')\n",
    "X.drop(['release_date'],axis=1,inplace=True)\n",
    "\n",
    "X['prod_comp_list'] = X['production_companies'].apply(get_prod_id_list)\n",
    "val_list = [x[0] for x in get_counts(X,'prod_comp_list').most_common(20)]\n",
    "n_hot_encode(X,'prod_comp_list', val_list)\n",
    "X.drop(['production_companies', 'prod_comp_list'],axis=1,inplace=True)\n",
    "\n",
    "X['original_language'] = X['original_language'].apply(get_language_position)"
   ]
  },
  {
   "cell_type": "code",
   "execution_count": 255,
   "id": "e300cfb9",
   "metadata": {},
   "outputs": [],
   "source": [
    "def rmlse(target_true, target_predicted):\n",
    "    assert len(target_true) == len(target_predicted)\n",
    "    log_diff = np.log(target_predicted + 1) - np.log(target_true + 1)\n",
    "    return np.sqrt(np.mean(np.power(log_diff, 2)))"
   ]
  },
  {
   "cell_type": "code",
   "execution_count": 256,
   "id": "fe7fbc92",
   "metadata": {},
   "outputs": [],
   "source": [
    "X_train, X_test, y_train, y_test = train_test_split(X, y, test_size=0.30, random_state=42)\n",
    "X_test, X_val, y_test, y_val = train_test_split(X_test, y_test, test_size=0.2, random_state=42)"
   ]
  },
  {
   "cell_type": "code",
   "execution_count": 257,
   "id": "be0d2a23",
   "metadata": {},
   "outputs": [],
   "source": [
    "def make_pipelines(df_cols):\n",
    "    numeric_features = list(df_cols)\n",
    "    numeric_transformer = Pipeline(steps=[('imputer', impute.SimpleImputer(strategy='median', missing_values=np.nan))])\n",
    "    preprocessor = compose.ColumnTransformer(transformers=[('num', numeric_transformer, numeric_features)])\n",
    "    pipelines = [Pipeline(steps=[('preprocessor', preprocessor),('scaler', preprocessing.StandardScaler()),('reg', Ridge(normalize = True))])]\n",
    "    pipelines.append(Pipeline(steps=[('preprocessor', preprocessor),('scaler', preprocessing.StandardScaler()),('reg', KNeighborsRegressor())]))\n",
    "    pipelines.append(Pipeline(steps=[('preprocessor', preprocessor),('scaler', preprocessing.StandardScaler()),('reg', BayesianRidge())]))\n",
    "    pipelines.append(Pipeline(steps=[('preprocessor', preprocessor),('reg', RandomForestRegressor(random_state = 42))]))\n",
    "    pipelines.append(Pipeline(steps=[('preprocessor', preprocessor),('xgb', XGBRegressor(seed = 42))]))\n",
    "    return pipelines"
   ]
  },
  {
   "cell_type": "code",
   "execution_count": 258,
   "id": "8a0aeab0",
   "metadata": {},
   "outputs": [],
   "source": [
    "def make_pipeline_model_eval(df_cols, regressor = None):\n",
    "    numeric_transformer = Pipeline(steps=[('imputer', impute.SimpleImputer(strategy='median', missing_values=np.nan)), \\\n",
    "                                          ('scaler', preprocessing.StandardScaler())])\n",
    "    preprocessor = compose.ColumnTransformer(transformers=[('num', numeric_transformer, list(df_cols))])\n",
    "    pipeline = Pipeline(steps=[('preprocessor', preprocessor),('regressor', regressor)])\n",
    "    return pipeline"
   ]
  },
  {
   "cell_type": "code",
   "execution_count": 259,
   "id": "ad205508",
   "metadata": {},
   "outputs": [
    {
     "name": "stdout",
     "output_type": "stream",
     "text": [
      "\n",
      "For Ridge                 \n",
      " r2_score:0.5, rmlse:2.07, medae:27901376.81\n",
      "\n",
      "For KNeighborsRegressor   \n",
      " r2_score:0.49, rmlse:2.03, medae:28757158.0\n",
      "\n",
      "For BayesianRidge         \n",
      " r2_score:-0.01, rmlse:2.71, medae:57940281.03\n",
      "\n",
      "For RandomForestRegressor \n",
      " r2_score:0.69, rmlse:1.67, medae:18439132.34\n",
      "\n",
      "For XGBRegressor          \n",
      " r2_score:0.72, rmlse:1.86, medae:21882630.0\n"
     ]
    },
    {
     "name": "stderr",
     "output_type": "stream",
     "text": [
      "<ipython-input-255-d094176a300c>:3: RuntimeWarning: invalid value encountered in log\n",
      "  log_diff = np.log(target_predicted + 1) - np.log(target_true + 1)\n",
      "<ipython-input-255-d094176a300c>:3: RuntimeWarning: invalid value encountered in log\n",
      "  log_diff = np.log(target_predicted + 1) - np.log(target_true + 1)\n"
     ]
    }
   ],
   "source": [
    "pipelines = make_pipelines(X_train.columns)\n",
    "\n",
    "for pipe in pipelines:\n",
    "    pipe.fit(X_train, y_train)\n",
    "    \n",
    "for pipe in pipelines:\n",
    "    name = pipe.steps[-1][1].__class__.__name__.split('.')[-1]\n",
    "    y_pred = pipe.predict(X_val)\n",
    "    r2score = round(r2_score(y_val, y_pred), 2)\n",
    "    rmlse_score = round(rmlse(y_val, y_pred), 2)\n",
    "    medae_value = round(median_absolute_error(y_val,y_pred), 2)\n",
    "    print(f\"\\nFor {name:<22}\\n r2_score:{r2score}, rmlse:{rmlse_score}, medae:{medae_value}\")"
   ]
  },
  {
   "cell_type": "markdown",
   "id": "1dfd5b36",
   "metadata": {},
   "source": [
    "## Machine learning"
   ]
  },
  {
   "cell_type": "code",
   "execution_count": 260,
   "id": "caddd1c6",
   "metadata": {},
   "outputs": [],
   "source": [
    "cv=8\n",
    "n_iter=20"
   ]
  },
  {
   "cell_type": "markdown",
   "id": "2d53bb56",
   "metadata": {},
   "source": [
    "#### RandomizedSearchCV"
   ]
  },
  {
   "cell_type": "code",
   "execution_count": 261,
   "id": "3280d6c2",
   "metadata": {},
   "outputs": [],
   "source": [
    "def RandomForest_Seach_CV():\n",
    "    rdfr = RandomForestRegressor(random_state = 42)\n",
    "    \n",
    "    # Number of trees in random forest\n",
    "    n_estimators = [20,40,45,50,60,80,100,150,200, 300, 500, 600, 700, 800]\n",
    "    \n",
    "    # Number of features to consider at every split\n",
    "    max_features = ['auto', 'sqrt', 20, 25, 30, 35]\n",
    "    \n",
    "    # Maximum number of levels in tree\n",
    "    max_depth = [int(x) for x in np.linspace(10, 110, num = 11)]\n",
    "    max_depth.append(None)\n",
    "    \n",
    "    # Minimum number of samples required to split a node\n",
    "    min_samples_split = [2, 5, 10, 15]\n",
    "    \n",
    "    # Minimum number of samples required at each leaf node\n",
    "    min_samples_leaf = [1, 2, 4, 8, 10]\n",
    "    \n",
    "\n",
    "    hyperparameters = {'n_estimators': n_estimators,\n",
    "               'max_features': max_features,\n",
    "               'max_depth': max_depth,\n",
    "               'min_samples_split': min_samples_split,\n",
    "               'min_samples_leaf': min_samples_leaf}\n",
    "    \n",
    "    clf_random_cv = RandomizedSearchCV(rdfr, \n",
    "                              hyperparameters, \n",
    "                              cv=cv, \n",
    "                              n_iter=n_iter)\n",
    "    print(clf_random_cv)\n",
    "    return clf_random_cv"
   ]
  },
  {
   "cell_type": "code",
   "execution_count": 262,
   "id": "466f8556",
   "metadata": {},
   "outputs": [
    {
     "name": "stdout",
     "output_type": "stream",
     "text": [
      "RandomizedSearchCV(cv=8, estimator=RandomForestRegressor(random_state=42),\n",
      "                   n_iter=20,\n",
      "                   param_distributions={'max_depth': [10, 20, 30, 40, 50, 60,\n",
      "                                                      70, 80, 90, 100, 110,\n",
      "                                                      None],\n",
      "                                        'max_features': ['auto', 'sqrt', 20, 25,\n",
      "                                                         30, 35],\n",
      "                                        'min_samples_leaf': [1, 2, 4, 8, 10],\n",
      "                                        'min_samples_split': [2, 5, 10, 15],\n",
      "                                        'n_estimators': [20, 40, 45, 50, 60, 80,\n",
      "                                                         100, 150, 200, 300,\n",
      "                                                         500, 600, 700, 800]})\n"
     ]
    }
   ],
   "source": [
    "cv = RandomForest_Seach_CV()\n",
    "final_model = make_pipeline_model_eval(X_train.columns, cv)\n",
    "final_model.fit(X_train,y_train)\n",
    "y_pred = final_model.predict(X_val)\n",
    "r2score = round(r2_score(y_val, y_pred),2)\n",
    "rmlse_score = round(rmlse(y_val, y_pred), 2)\n",
    "medae_value = round(median_absolute_error(y_val, y_pred), 2)"
   ]
  },
  {
   "cell_type": "markdown",
   "id": "23e2817c",
   "metadata": {},
   "source": [
    "#### 5-fold cross validation"
   ]
  },
  {
   "cell_type": "code",
   "execution_count": 263,
   "id": "4dbd5884",
   "metadata": {},
   "outputs": [],
   "source": [
    "accuracies = []\n",
    "medae = []\n",
    "def k_fold_validation():\n",
    "    kf = KFold(n_splits=5, shuffle=True, random_state=42)\n",
    "    for train_index, test_index in kf.split(X):\n",
    "        X_train, X_test = X.iloc[train_index], X.iloc[test_index]\n",
    "        y_train, y_test = y.iloc[train_index], y.iloc[test_index]\n",
    "        final_model.fit(X_train, y_train)\n",
    "        y_pred = final_model.predict(X_test)\n",
    "        medae_value = median_absolute_error(y_test, y_pred)\n",
    "        medae.append(medae_value)\n",
    "        accuracies.append(rmlse(y_test, y_pred))\n",
    "k_fold_validation()"
   ]
  },
  {
   "cell_type": "code",
   "execution_count": 264,
   "id": "bed94d30",
   "metadata": {},
   "outputs": [
    {
     "name": "stdout",
     "output_type": "stream",
     "text": [
      "Model performance on test data , r2_score:0.88, rmlse:1.43, medae:9991416.54\n"
     ]
    }
   ],
   "source": [
    "y_pred = final_model.predict(X_test)\n",
    "r2score = round(r2_score(y_test, y_pred),2)\n",
    "rmlse_score = round(rmlse(y_test, y_pred), 2)\n",
    "medae_value = round(median_absolute_error(y_test, y_pred), 2)\n",
    "print(f\"Model performance on test data , r2_score:{r2score}, rmlse:{rmlse_score}, medae:{medae_value}\")"
   ]
  },
  {
   "cell_type": "code",
   "execution_count": 265,
   "id": "1af08b5a",
   "metadata": {},
   "outputs": [],
   "source": [
    "pickle.dump(final_model, open('final_model_boxoffice', 'wb'))"
   ]
  }
 ],
 "metadata": {
  "kernelspec": {
   "display_name": "Python 3",
   "language": "python",
   "name": "python3"
  },
  "language_info": {
   "codemirror_mode": {
    "name": "ipython",
    "version": 3
   },
   "file_extension": ".py",
   "mimetype": "text/x-python",
   "name": "python",
   "nbconvert_exporter": "python",
   "pygments_lexer": "ipython3",
   "version": "3.8.8"
  }
 },
 "nbformat": 4,
 "nbformat_minor": 5
}
